{
  "nbformat": 4,
  "nbformat_minor": 0,
  "metadata": {
    "colab": {
      "provenance": []
    },
    "kernelspec": {
      "name": "python3",
      "display_name": "Python 3"
    },
    "language_info": {
      "name": "python"
    }
  },
  "cells": [
    {
      "cell_type": "code",
      "execution_count": null,
      "metadata": {
        "id": "my622-aH3vTV"
      },
      "outputs": [],
      "source": [
        "import matplotlib.pyplot as plt\n",
        "import numpy as np\n",
        "import pandas as pd\n",
        "import seaborn as sns\n",
        "import cv2\n",
        "import tensorflow as tf\n",
        "from tensorflow.keras.preprocessing.image import ImageDataGenerator\n",
        "from tqdm import tqdm\n",
        "import os\n",
        "from sklearn.utils import shuffle\n",
        "from sklearn.model_selection import train_test_split\n",
        "from tensorflow.keras.applications import EfficientNetB1\n",
        "from tensorflow.keras.callbacks import EarlyStopping, ReduceLROnPlateau, TensorBoard, ModelCheckpoint\n",
        "from sklearn.metrics import classification_report,confusion_matrix\n",
        "import io\n",
        "from PIL import Image"
      ]
    },
    {
      "cell_type": "code",
      "source": [
        "labels = [\"cat\", \"dog\"]"
      ],
      "metadata": {
        "id": "4m5nECMm9WjD"
      },
      "execution_count": null,
      "outputs": []
    },
    {
      "cell_type": "code",
      "source": [
        "X_train = []\n",
        "y_train = []\n",
        "img_size = 100\n",
        "\n",
        "folderPathDog = os.path.join(r\"/content/PetImages/Dog/\")\n",
        "folderPathCat = os.path.join(r\"/content/PetImages/Cat/\")\n",
        "\n",
        "for j in tqdm(os.listdir(folderPathDog)):\n",
        "    img = cv2.imread(os.path.join(folderPathDog, j))\n",
        "    img = cv2.resize(img, (img_size, img_size))\n",
        "    X_train.append(img)\n",
        "    y_train.append(1)\n",
        "\n",
        "for j in tqdm(os.listdir(folderPathCat)):\n",
        "    if j[-3:-1] == \"jp\":\n",
        "      img = cv2.imread(os.path.join(folderPathCat, j))\n",
        "      img = cv2.resize(img, (img_size, img_size))\n",
        "      X_train.append(img)\n",
        "      y_train.append(0)\n",
        "\n",
        "X_train = np.array(X_train)\n",
        "y_train = np.array(y_train)"
      ],
      "metadata": {
        "colab": {
          "base_uri": "https://localhost:8080/"
        },
        "id": "dDzbmMW09F8z",
        "outputId": "d91fc973-921a-49d7-ef23-5e25f6ac45a6"
      },
      "execution_count": null,
      "outputs": [
        {
          "output_type": "stream",
          "name": "stderr",
          "text": [
            "100%|██████████| 501/501 [00:01<00:00, 354.06it/s]\n",
            "100%|██████████| 501/501 [00:01<00:00, 376.51it/s]\n"
          ]
        }
      ]
    },
    {
      "cell_type": "code",
      "source": [
        "X_train.shape"
      ],
      "metadata": {
        "colab": {
          "base_uri": "https://localhost:8080/"
        },
        "id": "UC5b48GZAKh-",
        "outputId": "5a56af6c-5fb5-410a-af0b-a82883c307f4"
      },
      "execution_count": null,
      "outputs": [
        {
          "output_type": "execute_result",
          "data": {
            "text/plain": [
              "(1001, 100, 100, 3)"
            ]
          },
          "metadata": {},
          "execution_count": 40
        }
      ]
    },
    {
      "cell_type": "code",
      "source": [
        "X_train, y_train = shuffle(X_train, y_train, random_state=101)"
      ],
      "metadata": {
        "id": "8ogO_z1_BTY_"
      },
      "execution_count": null,
      "outputs": []
    },
    {
      "cell_type": "code",
      "source": [
        "y_train[0]"
      ],
      "metadata": {
        "colab": {
          "base_uri": "https://localhost:8080/"
        },
        "id": "yA8WOCQaBNcB",
        "outputId": "d5e7585d-b39d-4b5c-d348-6a99e2b10d45"
      },
      "execution_count": null,
      "outputs": [
        {
          "output_type": "execute_result",
          "data": {
            "text/plain": [
              "1"
            ]
          },
          "metadata": {},
          "execution_count": 41
        }
      ]
    },
    {
      "cell_type": "code",
      "source": [
        "X_train, X_test, y_train, y_test = train_test_split(X_train, y_train, test_size=0.1, random_state=101)"
      ],
      "metadata": {
        "id": "Md5yjANIA7jF"
      },
      "execution_count": null,
      "outputs": []
    },
    {
      "cell_type": "code",
      "source": [
        "y_train = tf.keras.utils.to_categorical(y_train)"
      ],
      "metadata": {
        "id": "a39lnCxaA9pj"
      },
      "execution_count": null,
      "outputs": []
    },
    {
      "cell_type": "code",
      "source": [
        "y_train"
      ],
      "metadata": {
        "colab": {
          "base_uri": "https://localhost:8080/"
        },
        "id": "hnOFJb_bBtJL",
        "outputId": "61d6f881-3a58-43b9-c642-e7e0d460c127"
      },
      "execution_count": null,
      "outputs": [
        {
          "output_type": "execute_result",
          "data": {
            "text/plain": [
              "array([[0., 1.],\n",
              "       [1., 0.],\n",
              "       [0., 1.],\n",
              "       ...,\n",
              "       [1., 0.],\n",
              "       [0., 1.],\n",
              "       [1., 0.]], dtype=float32)"
            ]
          },
          "metadata": {},
          "execution_count": 45
        }
      ]
    },
    {
      "cell_type": "code",
      "source": [
        "effnet = EfficientNetB1(weights='imagenet', include_top=False, input_shape=(img_size, img_size, 3))"
      ],
      "metadata": {
        "colab": {
          "base_uri": "https://localhost:8080/"
        },
        "id": "WqviEI99BxUP",
        "outputId": "e7a556c7-250b-4fc9-89bc-19d98529345d"
      },
      "execution_count": null,
      "outputs": [
        {
          "output_type": "stream",
          "name": "stdout",
          "text": [
            "Downloading data from https://storage.googleapis.com/keras-applications/efficientnetb1_notop.h5\n",
            "27018416/27018416 [==============================] - 0s 0us/step\n"
          ]
        }
      ]
    },
    {
      "cell_type": "code",
      "source": [
        "model = effnet.output\n",
        "model = tf.keras.layers.GlobalAveragePooling2D()(model)\n",
        "model = tf.keras.layers.Dropout(rate=0.5)(model)\n",
        "model = tf.keras.layers.Dense(2,activation='softmax')(model)\n",
        "model = tf.keras.models.Model(inputs=effnet.input, outputs = model)"
      ],
      "metadata": {
        "id": "Rz_fjqJPB3j_"
      },
      "execution_count": null,
      "outputs": []
    },
    {
      "cell_type": "code",
      "source": [
        "model.compile(loss='categorical_crossentropy', optimizer= 'Adam', metrics= ['accuracy'])"
      ],
      "metadata": {
        "id": "JjhrNDVvB9mE"
      },
      "execution_count": null,
      "outputs": []
    },
    {
      "cell_type": "code",
      "source": [
        "tensorboard = TensorBoard(log_dir = 'logs')\n",
        "checkpoint = ModelCheckpoint('effnetB1_V2.h5', monitor='val_accuracy', save_best_only=True, mode='auto', verbose=1)\n",
        "reduce_lr = ReduceLROnPlateau(monitor= 'val_accuracy', factor=0.3, patience=2, min_delta=0.001, mode='auto', verbose=1)"
      ],
      "metadata": {
        "id": "IdlU4zDmB_WX"
      },
      "execution_count": null,
      "outputs": []
    },
    {
      "cell_type": "code",
      "source": [
        "history = model.fit(X_train, y_train, validation_split=0.1, epochs=3, verbose=1, batch_size=32, callbacks=[tensorboard, checkpoint, reduce_lr])"
      ],
      "metadata": {
        "colab": {
          "base_uri": "https://localhost:8080/"
        },
        "id": "yq6OCxo3CA_l",
        "outputId": "a27fe82b-7114-4461-c763-c8a0d9074315"
      },
      "execution_count": null,
      "outputs": [
        {
          "output_type": "stream",
          "name": "stdout",
          "text": [
            "Epoch 1/3\n",
            "26/26 [==============================] - ETA: 0s - loss: 0.0395 - accuracy: 0.9914\n",
            "Epoch 1: val_accuracy did not improve from 0.87778\n",
            "26/26 [==============================] - 89s 3s/step - loss: 0.0395 - accuracy: 0.9914 - val_loss: 0.4863 - val_accuracy: 0.8667 - lr: 3.0000e-04\n",
            "Epoch 2/3\n",
            "26/26 [==============================] - ETA: 0s - loss: 0.0227 - accuracy: 0.9914\n",
            "Epoch 2: val_accuracy improved from 0.87778 to 0.90000, saving model to effnetB1_V2.h5\n",
            "26/26 [==============================] - 83s 3s/step - loss: 0.0227 - accuracy: 0.9914 - val_loss: 0.3676 - val_accuracy: 0.9000 - lr: 3.0000e-04\n",
            "Epoch 3/3\n",
            "26/26 [==============================] - ETA: 0s - loss: 0.0129 - accuracy: 0.9975\n",
            "Epoch 3: val_accuracy did not improve from 0.90000\n",
            "26/26 [==============================] - 82s 3s/step - loss: 0.0129 - accuracy: 0.9975 - val_loss: 0.3293 - val_accuracy: 0.8667 - lr: 3.0000e-04\n"
          ]
        }
      ]
    },
    {
      "cell_type": "code",
      "source": [
        "def img_pred(path):\n",
        "    img = cv2.imread(path)\n",
        "    opencvImage = cv2.cvtColor(np.array(img), cv2.COLOR_RGB2BGR)\n",
        "    img = cv2.resize(opencvImage,(100,100))\n",
        "    img = img.reshape(1,100,100,3)\n",
        "    p = model.predict(img)\n",
        "    p = np.argmax(p,axis=1)[0]\n",
        "\n",
        "    if p==0:\n",
        "        p='Cat'\n",
        "    else:\n",
        "        p='Dog'\n",
        "\n",
        "    if p!=1:\n",
        "        print(f'The Model predicts that it is a {p}')"
      ],
      "metadata": {
        "id": "GRMoLkGdFSDV"
      },
      "execution_count": null,
      "outputs": []
    },
    {
      "cell_type": "code",
      "source": [
        "path = r'/content/testes/pug.jpg'\n",
        "print(img_pred(path))\n",
        "\n",
        "print(\"\\n\")\n",
        "\n",
        "path = r'/content/testes/cat.jpg'\n",
        "print(img_pred(path))"
      ],
      "metadata": {
        "colab": {
          "base_uri": "https://localhost:8080/"
        },
        "id": "GvKH4_E7GLGD",
        "outputId": "30fc1c6b-827f-4457-fd20-c16f1bc1e814"
      },
      "execution_count": null,
      "outputs": [
        {
          "output_type": "stream",
          "name": "stdout",
          "text": [
            "1/1 [==============================] - 0s 75ms/step\n",
            "The Model predicts that it is a Dog\n",
            "None\n",
            "\n",
            "\n",
            "1/1 [==============================] - 0s 158ms/step\n",
            "The Model predicts that it is a Cat\n",
            "None\n"
          ]
        }
      ]
    }
  ]
}